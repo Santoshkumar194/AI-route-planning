{
 "cells": [
  {
   "cell_type": "code",
   "execution_count": 8,
   "id": "e52b757d-d36b-4f9c-8ee0-276ec6843d32",
   "metadata": {},
   "outputs": [
    {
     "name": "stdout",
     "output_type": "stream",
     "text": [
      "Conversion complete. Markdown saved to AI-route-planning/create_graph.txt\n"
     ]
    }
   ],
   "source": [
    "import nbformat\n",
    "from nbconvert import MarkdownExporter\n",
    "import os\n",
    "\n",
    "def convert_ipynb_to_markdown(input_file, output_file):\n",
    "    # Read the notebook\n",
    "    with open(input_file, 'r', encoding='utf-8') as f:\n",
    "        notebook = nbformat.read(f, as_version=4)\n",
    "\n",
    "    # Create a Markdown exporter\n",
    "    markdown_exporter = MarkdownExporter()\n",
    "\n",
    "    # Convert the notebook to Markdown\n",
    "    markdown, _ = markdown_exporter.from_notebook_node(notebook)\n",
    "\n",
    "    # Write the Markdown content to a .txt file\n",
    "    with open(output_file, 'w', encoding='utf-8') as f:\n",
    "        f.write(markdown)\n",
    "\n",
    "    print(f\"Conversion complete. Markdown saved to {output_file}\")\n",
    "\n",
    "# Example usage\n",
    "path = \"AI-route-planning/create_graph\"\n",
    "input_notebook = path + \".ipynb\"\n",
    "output_file = path + \".txt\"\n",
    "\n",
    "convert_ipynb_to_markdown(input_notebook, output_file)"
   ]
  },
  {
   "cell_type": "code",
   "execution_count": 11,
   "id": "941a4bb6-7c3a-414c-ae7b-4dc4b1f85adc",
   "metadata": {
    "collapsed": true,
    "jupyter": {
     "outputs_hidden": true,
     "source_hidden": true
    },
    "tags": []
   },
   "outputs": [
    {
     "name": "stdout",
     "output_type": "stream",
     "text": [
      "Conversion complete. Markdown saved to AI-route-planning/create_graph.txt\n",
      "Images saved in AI-route-planning/create_graph_images\n"
     ]
    }
   ],
   "source": [
    "import nbformat\n",
    "from nbconvert import MarkdownExporter\n",
    "import os\n",
    "import base64\n",
    "from bs4 import BeautifulSoup\n",
    "import re\n",
    "\n",
    "def convert_ipynb_to_markdown_with_images(input_file, output_file):\n",
    "    # Read the notebook\n",
    "    with open(input_file, 'r', encoding='utf-8') as f:\n",
    "        notebook = nbformat.read(f, as_version=4)\n",
    "\n",
    "    # Create a Markdown exporter\n",
    "    markdown_exporter = MarkdownExporter()\n",
    "\n",
    "    # Convert the notebook to Markdown\n",
    "    markdown, _ = markdown_exporter.from_notebook_node(notebook)\n",
    "\n",
    "    # Parse the Markdown content\n",
    "    soup = BeautifulSoup(markdown, 'html.parser')\n",
    "\n",
    "    # Create a directory for images if it doesn't exist\n",
    "    img_dir = os.path.splitext(output_file)[0] + '_images'\n",
    "    os.makedirs(img_dir, exist_ok=True)\n",
    "\n",
    "    # Process each image\n",
    "    img_tags = soup.find_all('img')\n",
    "    for i, img in enumerate(img_tags):\n",
    "        if img.has_attr('src') and img['src'].startswith('data:image'):\n",
    "            # Extract image data\n",
    "            img_data = img['src'].split(',')[1]\n",
    "            img_bytes = base64.b64decode(img_data)\n",
    "\n",
    "            # Generate image filename\n",
    "            img_filename = f'image_{i}.png'\n",
    "            img_path = os.path.join(img_dir, img_filename)\n",
    "\n",
    "            # Save image to file\n",
    "            with open(img_path, 'wb') as img_file:\n",
    "                img_file.write(img_bytes)\n",
    "\n",
    "            # Update image reference in Markdown\n",
    "            img['src'] = os.path.join(os.path.basename(img_dir), img_filename)\n",
    "\n",
    "    # Convert the modified soup back to Markdown\n",
    "    markdown_content = str(soup)\n",
    "\n",
    "    # Clean up the Markdown content\n",
    "    markdown_content = re.sub(r'<img.*?src=\"(.*?)\".*?>', r'![Image](\\1)', markdown_content)\n",
    "\n",
    "    # Write the Markdown content to a .txt file\n",
    "    with open(output_file, 'w', encoding='utf-8') as f:\n",
    "        f.write(markdown_content)\n",
    "\n",
    "    print(f\"Conversion complete. Markdown saved to {output_file}\")\n",
    "    print(f\"Images saved in {img_dir}\")\n",
    "\n",
    "# Example usage\n",
    "path = \"AI-route-planning/create_graph\"\n",
    "input_notebook = path + \".ipynb\"\n",
    "output_file = path + \".txt\"\n",
    "\n",
    "convert_ipynb_to_markdown_with_images(input_notebook, output_file)"
   ]
  },
  {
   "cell_type": "code",
   "execution_count": null,
   "id": "c12cfbde-3240-4ad0-9166-273e86020a1c",
   "metadata": {},
   "outputs": [],
   "source": []
  }
 ],
 "metadata": {
  "kernelspec": {
   "display_name": "Python 3",
   "language": "python",
   "name": "python3"
  },
  "language_info": {
   "codemirror_mode": {
    "name": "ipython",
    "version": 3
   },
   "file_extension": ".py",
   "mimetype": "text/x-python",
   "name": "python",
   "nbconvert_exporter": "python",
   "pygments_lexer": "ipython3",
   "version": "3.8.5"
  }
 },
 "nbformat": 4,
 "nbformat_minor": 5
}
